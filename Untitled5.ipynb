{
  "nbformat": 4,
  "nbformat_minor": 0,
  "metadata": {
    "colab": {
      "name": "Untitled5.ipynb",
      "provenance": [],
      "collapsed_sections": [],
      "authorship_tag": "ABX9TyP1tK2AphxmibufJvmMyBuT",
      "include_colab_link": true
    },
    "kernelspec": {
      "name": "python3",
      "display_name": "Python 3"
    },
    "language_info": {
      "name": "python"
    }
  },
  "cells": [
    {
      "cell_type": "markdown",
      "metadata": {
        "id": "view-in-github",
        "colab_type": "text"
      },
      "source": [
        "<a href=\"https://colab.research.google.com/github/Andrebarbosalima/Andrebarbosalima/blob/main/Untitled5.ipynb\" target=\"_parent\"><img src=\"https://colab.research.google.com/assets/colab-badge.svg\" alt=\"Open In Colab\"/></a>"
      ]
    },
    {
      "cell_type": "code",
      "metadata": {
        "colab": {
          "base_uri": "https://localhost:8080/"
        },
        "id": "9xZUL2XOKJ-x",
        "outputId": "4acc03df-840a-4473-9a19-184034623389"
      },
      "source": [
        "N = int(input(\"Digite um numero N: \\n\"))\n",
        "l = list()\n",
        "for i in range(N):\n",
        "  x = float(input(\"Digite um numero para lista :\\n\"))\n",
        "  l.append(x)\n",
        "print(x)  \n",
        "soma= 0\n",
        "max = l[0]\n",
        "print(\"bom\",max)\n",
        "min = l[0]\n",
        "for i in l:\n",
        "  soma += i\n",
        "  if min > i:\n",
        "    min = i\n",
        "  if max < i:\n",
        "    max = i\n",
        "print(\"Soma:\", soma)  \n",
        "print(\"media:\", soma / N)  \n",
        "print(\"maior numero:\", max)\n",
        "print(\"menor numero:\", min)\n",
        "\n"
      ],
      "execution_count": null,
      "outputs": [
        {
          "output_type": "stream",
          "name": "stdout",
          "text": [
            "Digite um numero N: \n",
            "3\n",
            "Digite um numero para lista :\n",
            "4\n",
            "Digite um numero para lista :\n",
            "3\n",
            "Digite um numero para lista :\n",
            "2\n",
            "2.0\n",
            "bom 4.0\n",
            "Soma: 9.0\n",
            "media: 3.0\n",
            "maior numero: 4.0\n",
            "menor numero: 2.0\n"
          ]
        }
      ]
    },
    {
      "cell_type": "code",
      "metadata": {
        "colab": {
          "base_uri": "https://localhost:8080/"
        },
        "id": "1wJj2xyIjr0O",
        "outputId": "0c1608e3-e623-4628-c504-fbeb5a192bbe"
      },
      "source": [
        "import random\n",
        "numero_soterdo =random.randint(1,42) \n",
        "numeros_de_tentativas = 4\n",
        "for rodada in range(1, numeros_de_tentativas +1):\n",
        "  print('Tentativa\t{}\tde\t{}'.format(rodada,\tnumeros_de_tentativas))\n",
        "  chute\t=\tint(input('Digite\to\tseu\tnúmero:\t'))\n",
        "  if chute == numero_soterdo:\n",
        "    print(\"Parabens você acertou\")\n",
        "    break\n",
        "  elif chute > numero_soterdo:\n",
        "     print(\"O numero chutado e maior que o numero soteado\")  \n",
        "  else:\n",
        "    print(\"O numero chutado é menor que o numro soteado\")  \n",
        "\n"
      ],
      "execution_count": null,
      "outputs": [
        {
          "output_type": "stream",
          "name": "stdout",
          "text": [
            "Tentativa\t1\tde\t4\n",
            "Digite\to\tseu\tnúmero:\t3\n",
            "O numero chtado é menor que o numro soteado\n",
            "Tentativa\t2\tde\t4\n",
            "Digite\to\tseu\tnúmero:\t6\n",
            "O numero chtado é menor que o numro soteado\n",
            "Tentativa\t3\tde\t4\n",
            "Digite\to\tseu\tnúmero:\t34\n",
            "O numero chutado e maior que o numero soteado\n",
            "Tentativa\t4\tde\t4\n",
            "Digite\to\tseu\tnúmero:\t10\n",
            "O numero chtado é menor que o numro soteado\n"
          ]
        }
      ]
    }
  ]
}