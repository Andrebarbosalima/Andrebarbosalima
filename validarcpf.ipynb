{
  "nbformat": 4,
  "nbformat_minor": 0,
  "metadata": {
    "colab": {
      "name": "Untitled6.ipynb",
      "provenance": [],
      "authorship_tag": "ABX9TyOTL4sisLRlP8z2wIjy03DB",
      "include_colab_link": true
    },
    "kernelspec": {
      "name": "python3",
      "display_name": "Python 3"
    },
    "language_info": {
      "name": "python"
    }
  },
  "cells": [
    {
      "cell_type": "markdown",
      "metadata": {
        "id": "view-in-github",
        "colab_type": "text"
      },
      "source": [
        "<a href=\"https://colab.research.google.com/github/Andrebarbosalima/Andrebarbosalima/blob/main/validarcpf.ipynb\" target=\"_parent\"><img src=\"https://colab.research.google.com/assets/colab-badge.svg\" alt=\"Open In Colab\"/></a>"
      ]
    },
    {
      "cell_type": "code",
      "metadata": {
        "colab": {
          "base_uri": "https://localhost:8080/"
        },
        "id": "cq4ojsQdHcRR",
        "outputId": "5d8826f3-9e12-41a5-cc65-8ef4f2b08585"
      },
      "source": [
        "cpf_recebido = str(11122233396)\n",
        "cpf = []\n",
        "for i in cpf_recebido:\n",
        "  cpf.append(int(i))\n",
        "resultadoSomaPDV = 0\n",
        "resultadoMultiplicacaoPDV = 0\n",
        "resultadoSomaSDV = 0\n",
        "resultadoMultiplicacaoSDV = 0\n",
        "situacao = False  \n",
        "for i in range(0, 9):\n",
        "  resultadoMultiplicacaoPDV = cpf[i] * (10 - i)\n",
        "  \n",
        "  resultadoSomaPDV = resultadoSomaPDV + resultadoMultiplicacaoPDV\n",
        "\n",
        "\n",
        "if (cpf[9] == pdv) and (cpf[10] == sdv):\n",
        "  print(\"Cpf valido\")\n",
        "else:\n",
        "  print(\"Cpf invalido\")  \n",
        "  \n"
      ],
      "execution_count": 30,
      "outputs": [
        {
          "output_type": "stream",
          "name": "stdout",
          "text": [
            "Cpf valido\n"
          ]
        }
      ]
    },
    {
      "cell_type": "code",
      "metadata": {
        "colab": {
          "base_uri": "https://localhost:8080/"
        },
        "id": "GXDIxz2-CoOK",
        "outputId": "a94df132-4258-4ef6-e735-4c14e671e500"
      },
      "source": [
        "cpfRecebido = str(11122233396)\n",
        "cpf = []\n",
        "for i in cpfRecebido:\n",
        "    cpf.append(int(i))\n",
        "cpfInvalido = [00000000000, 11111111111, 22222222222, 33333333333, 44444444444, 55555555555, 66666666666, 77777777777, 88888888888, 99999999999]\n",
        "resultadoSomaPDV = 0\n",
        "resultadoMultiplicacaoPDV = 0\n",
        "resultadoSomaSDV = 0\n",
        "resultadoMultiplicacaoSDV = 0\n",
        "situacao = False\n",
        "\n",
        "for i in range(0, 9):\n",
        "    resultadoMultiplicacaoPDV = cpf[i] * (10 - i)\n",
        "    resultadoSomaPDV = resultadoSomaPDV + resultadoMultiplicacaoPDV\n",
        "    \n",
        "\n",
        "resultadoRestoPDV = resultadoSomaPDV % 11\n",
        "pdv = 0 if resultadoRestoPDV >= 10 else (11 - resultadoRestoPDV)\n",
        "\n",
        "for i in range(0, 10):\n",
        "    resultadoMultiplicacaoSDV = cpf[i] * (11 - i)\n",
        "    resultadoSomaSDV = resultadoSomaSDV + resultadoMultiplicacaoSDV\n",
        "\n",
        "resultadoRestoSDV = resultadoSomaSDV % 11\n",
        "sdv = 0 if resultadoRestoSDV >= 10 else (11 - resultadoRestoSDV)\n",
        "\n",
        "for i in range(0, 10):\n",
        "    if cpfRecebido == cpfInvalido[i]:\n",
        "        situacao = True\n",
        "        break\n",
        "    else:\n",
        "        situacao = False\n",
        "\n",
        "if(situacao):\n",
        "    print('CPF invalido')\n",
        "elif (cpf[9] == pdv) and (cpf[10] == sdv):\n",
        "    print('CPF valido')\n",
        "else:\n",
        "    print('CPF invalido')"
      ],
      "execution_count": 31,
      "outputs": [
        {
          "output_type": "stream",
          "name": "stdout",
          "text": [
            "CPF valido\n"
          ]
        }
      ]
    }
  ]
}